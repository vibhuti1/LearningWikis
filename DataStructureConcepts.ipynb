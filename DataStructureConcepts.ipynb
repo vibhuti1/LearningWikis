{
  "nbformat": 4,
  "nbformat_minor": 0,
  "metadata": {
    "colab": {
      "name": "DataStructureConcepts.ipynb",
      "provenance": [],
      "collapsed_sections": [],
      "include_colab_link": true
    },
    "kernelspec": {
      "name": "python3",
      "display_name": "Python 3"
    }
  },
  "cells": [
    {
      "cell_type": "markdown",
      "metadata": {
        "id": "view-in-github",
        "colab_type": "text"
      },
      "source": [
        "<a href=\"https://colab.research.google.com/github/vibhuti1/LearningWikis/blob/master/DataStructureConcepts.ipynb\" target=\"_parent\"><img src=\"https://colab.research.google.com/assets/colab-badge.svg\" alt=\"Open In Colab\"/></a>"
      ]
    },
    {
      "cell_type": "markdown",
      "metadata": {
        "id": "l05GhJfYcHDH",
        "colab_type": "text"
      },
      "source": [
        "Data structure concepts\n",
        "\n",
        "* Data structure is a way of organizing the data so that it can be easily accessed in the program.\n",
        "* DS help to run the program faster, manage large amount of data in the program and makes the code look neater to read and understand.\n",
        "\n",
        "\n",
        "\n",
        "\n",
        "\n",
        "\n",
        "\n"
      ]
    },
    {
      "cell_type": "markdown",
      "metadata": {
        "id": "K_YVWapjdB44",
        "colab_type": "text"
      },
      "source": [
        "Abstract Data Type is the interface the data structure must follow.\n",
        "\n",
        "> For example: Assume moving from one preparing a dish is an ADT and the recipes are the DS. There can be multiple DS that can be used to implement the ADT.\n",
        "\n"
      ]
    },
    {
      "cell_type": "markdown",
      "metadata": {
        "id": "rZgff8g5eEJd",
        "colab_type": "text"
      },
      "source": [
        "Various computational complexities\n",
        "\n",
        "\n",
        "\n",
        "*   Constant Time: O(1)\n",
        "*   Logrithmic Time: O(log(n))\n",
        "*   Linear Time: O(n)\n",
        "*   Linearithmic Time: O(nlog(n))\n",
        "*   Quadric Time: O(n^2)\n",
        "*   Cubic Time: O(n^3)\n",
        "*   Exponential Time: O(b^n), b>1\n",
        "*   Factorial Time: O(n!)\n",
        "\n",
        "\n"
      ]
    },
    {
      "cell_type": "markdown",
      "metadata": {
        "id": "3xvf-Xq-Mm-K",
        "colab_type": "text"
      },
      "source": [
        "Arrays\n",
        "\n",
        "\n",
        "\n",
        "*   Static Array: It is a fixed length container indexable from [0, n-1]\n",
        "*   Dynamic Array: These arrays can grow or shrink in size depending on the elements.\n",
        "\n",
        "\n",
        "\n"
      ]
    },
    {
      "cell_type": "code",
      "metadata": {
        "id": "tqhO77nmNGBd",
        "colab_type": "code",
        "colab": {}
      },
      "source": [
        "#Static Array\n",
        "arr = [0,4]\n"
      ],
      "execution_count": 0,
      "outputs": []
    },
    {
      "cell_type": "markdown",
      "metadata": {
        "id": "2ntnHU4bMnNN",
        "colab_type": "text"
      },
      "source": [
        ""
      ]
    },
    {
      "cell_type": "markdown",
      "metadata": {
        "id": "5Bb5RkLtMngQ",
        "colab_type": "text"
      },
      "source": [
        ""
      ]
    }
  ]
}